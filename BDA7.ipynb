{
 "cells": [
  {
   "cell_type": "markdown",
   "id": "13c56cc4",
   "metadata": {},
   "source": [
    "### Aim:To perform hypothesis testing using Z-Test"
   ]
  },
  {
   "cell_type": "code",
   "execution_count": 10,
   "id": "910d5e2d",
   "metadata": {},
   "outputs": [],
   "source": [
    "# Name: Sagar Surendra Mohurle \n",
    "# Roll no.: 52\n",
    "# Sec: A"
   ]
  },
  {
   "cell_type": "code",
   "execution_count": 11,
   "id": "4b2b4cff",
   "metadata": {},
   "outputs": [
    {
     "name": "stdout",
     "output_type": "stream",
     "text": [
      "[54 18 86 66 16 14 29 61 24 41 98 32 34 94 83 96 98 64 54 35 73 91 58  4\n",
      " 29 40 63 81 69 76 72  5 47 22  6 17 26  4 72 35 65 47 99 44 73 65 59 68\n",
      " 90 88]\n"
     ]
    }
   ],
   "source": [
    "import numpy as np\n",
    "a=np.random.randint(1,100,50)\n",
    "print(a)"
   ]
  },
  {
   "cell_type": "code",
   "execution_count": 12,
   "id": "4e4dc354",
   "metadata": {},
   "outputs": [
    {
     "data": {
      "text/plain": [
       "50"
      ]
     },
     "execution_count": 12,
     "metadata": {},
     "output_type": "execute_result"
    }
   ],
   "source": [
    "len(a)"
   ]
  },
  {
   "cell_type": "code",
   "execution_count": 13,
   "id": "0a11f486",
   "metadata": {},
   "outputs": [],
   "source": [
    "import pandas as pd\n",
    "from scipy import stats\n",
    "from statsmodels.stats import weightstats as stests"
   ]
  },
  {
   "cell_type": "code",
   "execution_count": 14,
   "id": "12a8ebb3",
   "metadata": {},
   "outputs": [
    {
     "name": "stdout",
     "output_type": "stream",
     "text": [
      "[51 37 58 58 59 92 28 22 81  2 43 90 79 36  4 19 62  6  7 60 49 55 49 31\n",
      " 83 57 25 89 40 65 17 24 56 88 13 88 52 38 27 32 36 71 76 74 37 22 44 22\n",
      " 17 37]\n"
     ]
    }
   ],
   "source": [
    "# Generate 50 random integers between 1 and 100\n",
    "random_numbers = np.random.randint(1, 101, size=50)\n",
    "\n",
    "print(random_numbers)"
   ]
  },
  {
   "cell_type": "code",
   "execution_count": 15,
   "id": "9e73b220",
   "metadata": {},
   "outputs": [],
   "source": [
    "a=[61,93,84,14,61,45,59,37,21,95,60,24,52,30,82,23,26,59,60,67,29,80,15,47,\n",
    "  61,55,47,31,65,53,55,28,26,8,42,52,46,48,51,31,51,31,81,38,51,35,33,60,53,28,72,64]"
   ]
  },
  {
   "cell_type": "code",
   "execution_count": 16,
   "id": "a3c1cdf7",
   "metadata": {},
   "outputs": [
    {
     "name": "stdout",
     "output_type": "stream",
     "text": [
      "1.684641312810732e-73\n"
     ]
    }
   ],
   "source": [
    "z_test, p_val=stests.ztest(a, x2=None, value=100)\n",
    "print(p_val)"
   ]
  },
  {
   "cell_type": "code",
   "execution_count": 17,
   "id": "590c8a8b",
   "metadata": {},
   "outputs": [
    {
     "name": "stdout",
     "output_type": "stream",
     "text": [
      "We are rejecting null Hypothesis\n"
     ]
    }
   ],
   "source": [
    "if p_val<0.05:\n",
    "    print(\"We are rejecting null Hypothesis\")\n",
    "else:\n",
    "    print(\"We are accepting null Hypothesis\")"
   ]
  },
  {
   "cell_type": "code",
   "execution_count": null,
   "id": "a999ae8f",
   "metadata": {},
   "outputs": [],
   "source": []
  }
 ],
 "metadata": {
  "kernelspec": {
   "display_name": "Python 3 (ipykernel)",
   "language": "python",
   "name": "python3"
  },
  "language_info": {
   "codemirror_mode": {
    "name": "ipython",
    "version": 3
   },
   "file_extension": ".py",
   "mimetype": "text/x-python",
   "name": "python",
   "nbconvert_exporter": "python",
   "pygments_lexer": "ipython3",
   "version": "3.12.1"
  }
 },
 "nbformat": 4,
 "nbformat_minor": 5
}
