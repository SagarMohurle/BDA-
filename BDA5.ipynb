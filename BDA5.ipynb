{
 "cells": [
  {
   "cell_type": "markdown",
   "id": "d5936713-a92e-455b-af0e-e0b9d5546390",
   "metadata": {},
   "source": [
    "### Aim: To perform hypothesis testing using ANOVAv(F-Test) One Way F-Test (Anova)."
   ]
  },
  {
   "cell_type": "code",
   "execution_count": 1,
   "id": "98b72777",
   "metadata": {},
   "outputs": [],
   "source": [
    "# Name: Sagar Surendra Mohurle \n",
    "# Roll no.: 52\n",
    "# Sec: A"
   ]
  },
  {
   "cell_type": "raw",
   "id": "095e4247-b61f-4d7a-ae68-194e8ef53e52",
   "metadata": {},
   "source": [
    "Python program to implement One-Way f-test"
   ]
  },
  {
   "cell_type": "code",
   "execution_count": 3,
   "id": "a348930c",
   "metadata": {},
   "outputs": [],
   "source": [
    "# Importing the required libraries\n",
    "import scipy.stats"
   ]
  },
  {
   "cell_type": "code",
   "execution_count": 4,
   "id": "e5a8b172",
   "metadata": {},
   "outputs": [],
   "source": [
    "# Creating sample data\n",
    "data1 = [0.0842, 0.0368, 0.0847, 0.0935, 0.0376, 0.0963, 0.0684,\n",
    " 0.0758, 0.0854, 0.0855]\n",
    "data2 = [0.0785, 0.0845, 0.0758, 0.0853, 0.0946, 0.0785, 0.0853,\n",
    " 0.0685]\n",
    "data3 = [0.0864, 0.2522, 0.0894, 0.2724, 0.0853, 0.1367, 0.853]"
   ]
  },
  {
   "cell_type": "code",
   "execution_count": 5,
   "id": "723384db",
   "metadata": {},
   "outputs": [
    {
     "name": "stdout",
     "output_type": "stream",
     "text": [
      "p-value is:  0.04043792126789142\n"
     ]
    }
   ],
   "source": [
    "# Performing the F-Test\n",
    "f_test, p_val = scipy.stats.f_oneway(data1, data2, data3)\n",
    "print(\"p-value is: \", p_val)\n"
   ]
  },
  {
   "cell_type": "code",
   "execution_count": 6,
   "id": "8a847d3c-3154-4962-89a8-c20dd22afd46",
   "metadata": {},
   "outputs": [
    {
     "name": "stdout",
     "output_type": "stream",
     "text": [
      " We can reject the null hypothesis\n"
     ]
    }
   ],
   "source": [
    "# taking the threshold value as 0.05 or 5%\n",
    "if p_val < 0.05:\n",
    " print(\" We can reject the null hypothesis\")\n",
    "else:\n",
    " print(\"We can accept the null hypothesis\")"
   ]
  },
  {
   "cell_type": "code",
   "execution_count": null,
   "id": "a7221c1d-9b40-46b3-8688-2b4f04e42d42",
   "metadata": {},
   "outputs": [],
   "source": []
  }
 ],
 "metadata": {
  "kernelspec": {
   "display_name": "Python 3 (ipykernel)",
   "language": "python",
   "name": "python3"
  },
  "language_info": {
   "codemirror_mode": {
    "name": "ipython",
    "version": 3
   },
   "file_extension": ".py",
   "mimetype": "text/x-python",
   "name": "python",
   "nbconvert_exporter": "python",
   "pygments_lexer": "ipython3",
   "version": "3.12.1"
  }
 },
 "nbformat": 4,
 "nbformat_minor": 5
}
